{
 "cells": [
  {
   "cell_type": "code",
   "execution_count": 1,
   "id": "72b3715b",
   "metadata": {},
   "outputs": [],
   "source": [
    "from joblib import load"
   ]
  },
  {
   "cell_type": "code",
   "execution_count": 2,
   "id": "65a4e1ba",
   "metadata": {},
   "outputs": [],
   "source": [
    "#preprocessing = load('Sales_store_preprocessing.joblib')\n",
    "loaded_model = load('Sales_store_prediction3.joblib')"
   ]
  },
  {
   "cell_type": "code",
   "execution_count": null,
   "id": "a22f19a4",
   "metadata": {},
   "outputs": [],
   "source": [
    "import pandas as pd\n",
    "from feature_engine.outliers import Winsorizer"
   ]
  },
  {
   "cell_type": "code",
   "execution_count": null,
   "id": "6bb67e43",
   "metadata": {},
   "outputs": [],
   "source": [
    "test_model=pd.read_csv('Test.csv')\n",
    "test_model.head()"
   ]
  },
  {
   "cell_type": "code",
   "execution_count": null,
   "id": "e1397ba3",
   "metadata": {},
   "outputs": [],
   "source": [
    "test_model.shape"
   ]
  },
  {
   "cell_type": "code",
   "execution_count": null,
   "id": "51fb4315",
   "metadata": {},
   "outputs": [],
   "source": [
    "test_model.columns"
   ]
  },
  {
   "cell_type": "code",
   "execution_count": null,
   "id": "5ca12a1b",
   "metadata": {},
   "outputs": [],
   "source": [
    "test_model.info()"
   ]
  },
  {
   "cell_type": "code",
   "execution_count": null,
   "id": "e4f3e6ea",
   "metadata": {},
   "outputs": [],
   "source": [
    "test_model.isnull().sum()"
   ]
  },
  {
   "cell_type": "code",
   "execution_count": null,
   "id": "30d1d49e",
   "metadata": {},
   "outputs": [],
   "source": [
    "test_model.describe(include=\"all\")"
   ]
  },
  {
   "cell_type": "code",
   "execution_count": null,
   "id": "5c7f7cde",
   "metadata": {},
   "outputs": [],
   "source": [
    "sk=[\"Item_Weight\",\"Item_Visibility\",\"Item_MRP\",\"Outlet_Establishment_Year\"]\n",
    "for i in range(4):\n",
    "    print(test_model[sk[i]].skew())"
   ]
  },
  {
   "cell_type": "markdown",
   "id": "a9e43087",
   "metadata": {},
   "source": [
    "# Preprocessing"
   ]
  },
  {
   "cell_type": "code",
   "execution_count": null,
   "id": "07d27fdc",
   "metadata": {},
   "outputs": [],
   "source": [
    "def preprocessing(test_model):\n",
    "    test_model[\"Item_Weight\"].fillna(test_model[\"Item_Weight\"].mean(),inplace=True) #missing value\n",
    "    test_model[\"Outlet_Size\"].fillna(test_model[\"Outlet_Size\"].mode()[0],inplace=True)\n",
    "    \n",
    "    #win=Winsorizer(capping_method='iqr',tail='both',fold=1.5,variables=[\"Item_Visibility\"])\n",
    "    #test_model[\"Item_Visibility\"]=win.fit_transform(test_model[[\"Item_Visibility\"]])  #Outlier\n",
    "    \n",
    "    test_model.drop([\"Item_Identifier\",\"Outlet_Identifier\"],axis=1,inplace=True)\n",
    "    \n",
    "    test_model[\"sq_Item_Visibility\"]=test_model[\"Item_Visibility\"]*1  #transformation\n",
    "    \n",
    "    test_model.replace({\"Item_Fat_Content\":{'low fat':'Low Fat','LF':'Low Fat','reg':'Regular'}},inplace=True) #Encoading\n",
    "    \n",
    "    test_model[\"Item_Fat_Content\"]=test_model[\"Item_Fat_Content\"].map({'Low Fat':1,'Regular':2})\n",
    "    test_model[\"Item_Type\"]=test_model[\"Item_Type\"].map({'Fruits and Vegetables':1,'Snack Foods':2,'Household':3,'Frozen Foods':4,'Dairy':5,'Canned':6,'Baking Goods':7,'Health and Hygiene':8,\n",
    "                                     'Soft Drinks':9,'Meat':10,'Breads':11,'Hard Drinks':12,'Others':13,'Starchy Foods':14,'Breakfast':15,'Seafood':16})\n",
    "    test_model[\"Outlet_Type\"]=test_model[\"Outlet_Type\"].map({'Supermarket Type1':1,'Grocery Store':2,'Supermarket Type3':3,'Supermarket Type2':4})\n",
    "    #test_model[\"Item_Fat_Content\"]=pd.get_dummies(test_model[\"Item_Fat_Content\"],drop_first=True)\n",
    "    #df1=pd.get_dummies(test_model[[\"Item_Type\"]],drop_first=True)\n",
    "    #df2=pd.get_dummies(test_model[[\"Outlet_Type\"]],drop_first=True)\n",
    "    test_model[\"Outlet_Size\"]=test_model[\"Outlet_Size\"].map({'High':1,'Medium':2,'Small':3})\n",
    "    test_model[\"Outlet_Location_Type\"]=test_model[\"Outlet_Location_Type\"].map({'Tier 1':1,'Tier 2':2,'Tier 3':3})\n",
    "    #df_f=pd.concat([test_model,df1,df2],axis='columns')\n",
    "    #test_model.drop(['Item_Type','Outlet_Type'],axis='columns',inplace=True)\n",
    "    test_model.drop(['Item_Visibility'],axis=1,inplace=True)\n",
    "    return test_model\n"
   ]
  },
  {
   "cell_type": "code",
   "execution_count": null,
   "id": "843d7405",
   "metadata": {},
   "outputs": [],
   "source": [
    "X=preprocessing(test_model)"
   ]
  },
  {
   "cell_type": "code",
   "execution_count": null,
   "id": "e3299c62",
   "metadata": {},
   "outputs": [],
   "source": [
    "X.columns"
   ]
  },
  {
   "cell_type": "code",
   "execution_count": null,
   "id": "c25662ae",
   "metadata": {},
   "outputs": [],
   "source": [
    "test_predict=loaded_model.predict(X)"
   ]
  },
  {
   "cell_type": "code",
   "execution_count": null,
   "id": "729534f3",
   "metadata": {},
   "outputs": [],
   "source": [
    "predicted_values=pd.DataFrame(test_predict)"
   ]
  },
  {
   "cell_type": "code",
   "execution_count": null,
   "id": "6c825bac",
   "metadata": {},
   "outputs": [],
   "source": [
    "predicted_values"
   ]
  },
  {
   "cell_type": "markdown",
   "id": "2e2c9f0f",
   "metadata": {},
   "source": [
    "# predict new data"
   ]
  },
  {
   "cell_type": "code",
   "execution_count": 28,
   "id": "5debc8b4",
   "metadata": {},
   "outputs": [],
   "source": [
    "data=(11.8,'Low Fat',0.008596051,'Health and Hygiene',115.3492,2009,'Medium','Tier 3','Supermarket Type2')"
   ]
  },
  {
   "cell_type": "code",
   "execution_count": 29,
   "id": "7cf1088b",
   "metadata": {},
   "outputs": [],
   "source": [
    "data1=[]"
   ]
  },
  {
   "cell_type": "code",
   "execution_count": 30,
   "id": "12b603c7",
   "metadata": {},
   "outputs": [],
   "source": [
    "data1.append(data[0])"
   ]
  },
  {
   "cell_type": "code",
   "execution_count": 31,
   "id": "024aa804",
   "metadata": {},
   "outputs": [],
   "source": [
    "if data[1]=='Low Fat':\n",
    "    data1.append(1)\n",
    "else:\n",
    "    data1.append(2)"
   ]
  },
  {
   "cell_type": "code",
   "execution_count": 32,
   "id": "0117f00d",
   "metadata": {},
   "outputs": [],
   "source": [
    "data1.append(data[2])"
   ]
  },
  {
   "cell_type": "code",
   "execution_count": 33,
   "id": "85389e7d",
   "metadata": {},
   "outputs": [],
   "source": [
    "if data[3]=='Fruits and Vegetables':\n",
    "    data1.append(1)\n",
    "if data[3]=='Snack Foods':\n",
    "    data1.append(2)\n",
    "if data[3]=='Household':\n",
    "    data1.append(3)\n",
    "if data[3]=='Frozen Foods':\n",
    "    data1.append(4)\n",
    "if data[3]=='Dairy':\n",
    "    data1.append(5)\n",
    "if data[3]=='Canned':\n",
    "    data1.append(6)\n",
    "if data[3]=='Baking Goods':\n",
    "    data1.append(7)\n",
    "if data[3]=='Health and Hygiene':\n",
    "    data1.append(8)\n",
    "if data[3]=='Soft Drinks':\n",
    "    data1.append(9)\n",
    "if data[3]=='Meat':\n",
    "    data1.append(10)\n",
    "if data[3]=='Breads':\n",
    "    data1.append(11)\n",
    "if data[3]=='Hard Drinks':\n",
    "    data1.append(12)\n",
    "if data[3]=='Others':\n",
    "    data1.append(13)\n",
    "if data[3]=='Starchy Foods':\n",
    "    data1.append(14)\n",
    "if data[3]=='Breakfast':\n",
    "    data1.append(15)\n",
    "if data[3]=='Seafood':\n",
    "    data1.append(16)"
   ]
  },
  {
   "cell_type": "code",
   "execution_count": 34,
   "id": "f5efcb0e",
   "metadata": {},
   "outputs": [],
   "source": [
    "data1.append(data[4])"
   ]
  },
  {
   "cell_type": "code",
   "execution_count": 35,
   "id": "186b631e",
   "metadata": {},
   "outputs": [],
   "source": [
    "data1.append(data[5])"
   ]
  },
  {
   "cell_type": "code",
   "execution_count": 36,
   "id": "ce156a92",
   "metadata": {},
   "outputs": [],
   "source": [
    "if data[6]=='High':\n",
    "    data1.append(1)\n",
    "if data[6]=='Medium':\n",
    "    data1.append(2)\n",
    "if data[6]=='Small':\n",
    "    data1.append(3)"
   ]
  },
  {
   "cell_type": "code",
   "execution_count": 37,
   "id": "b574b3dd",
   "metadata": {},
   "outputs": [],
   "source": [
    "if data[7]=='Tier 1':\n",
    "    data1.append(1)\n",
    "if data[7]=='Tier 2':\n",
    "    data1.append(2)\n",
    "if data[7]=='Tier 3':\n",
    "    data1.append(3)\n"
   ]
  },
  {
   "cell_type": "code",
   "execution_count": 38,
   "id": "0aaae01e",
   "metadata": {},
   "outputs": [],
   "source": [
    "if data[8]=='Supermarket Type1':\n",
    "    data1.append(1)\n",
    "if data[8]=='Grocery Store':\n",
    "    data1.append(2)\n",
    "if data[8]=='Supermarket Type3':\n",
    "    data1.append(3)\n",
    "if data[8]=='Supermarket Type2':\n",
    "    data1.append(4)"
   ]
  },
  {
   "cell_type": "code",
   "execution_count": 39,
   "id": "d771fd77",
   "metadata": {},
   "outputs": [
    {
     "data": {
      "text/plain": [
       "[11.8, 1, 0.008596051, 8, 115.3492, 2009, 2, 3, 4]"
      ]
     },
     "execution_count": 39,
     "metadata": {},
     "output_type": "execute_result"
    }
   ],
   "source": [
    "data1"
   ]
  },
  {
   "cell_type": "code",
   "execution_count": 40,
   "id": "23c091c7",
   "metadata": {},
   "outputs": [],
   "source": [
    "import numpy as np\n",
    "# changing the input_data to numpy array\n",
    "input_data_as_numpy_array = np.asarray(data1)\n",
    "\n",
    "# reshape the array as we are predicting for one instance\n",
    "input_data_reshaped = input_data_as_numpy_array.reshape(1,-1)"
   ]
  },
  {
   "cell_type": "code",
   "execution_count": 46,
   "id": "491872e1",
   "metadata": {},
   "outputs": [
    {
     "name": "stdout",
     "output_type": "stream",
     "text": [
      "[1233.93581667]\n"
     ]
    },
    {
     "name": "stderr",
     "output_type": "stream",
     "text": [
      "C:\\Users\\dell\\anaconda3\\lib\\site-packages\\sklearn\\base.py:450: UserWarning: X does not have valid feature names, but GradientBoostingRegressor was fitted with feature names\n",
      "  warnings.warn(\n"
     ]
    }
   ],
   "source": [
    "prediction = loaded_model.predict(input_data_reshaped)\n",
    "print(prediction)"
   ]
  },
  {
   "cell_type": "code",
   "execution_count": null,
   "id": "d31a5d6c",
   "metadata": {},
   "outputs": [],
   "source": []
  }
 ],
 "metadata": {
  "kernelspec": {
   "display_name": "Python 3 (ipykernel)",
   "language": "python",
   "name": "python3"
  },
  "language_info": {
   "codemirror_mode": {
    "name": "ipython",
    "version": 3
   },
   "file_extension": ".py",
   "mimetype": "text/x-python",
   "name": "python",
   "nbconvert_exporter": "python",
   "pygments_lexer": "ipython3",
   "version": "3.9.7"
  }
 },
 "nbformat": 4,
 "nbformat_minor": 5
}
